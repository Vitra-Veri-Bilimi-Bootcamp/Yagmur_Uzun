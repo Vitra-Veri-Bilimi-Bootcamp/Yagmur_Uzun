{
  "nbformat": 4,
  "nbformat_minor": 0,
  "metadata": {
    "colab": {
      "name": "hw_python.ipynb",
      "provenance": []
    },
    "kernelspec": {
      "name": "python3",
      "display_name": "Python 3"
    },
    "language_info": {
      "name": "python"
    }
  },
  "cells": [
    {
      "cell_type": "markdown",
      "metadata": {
        "id": "S5tf4RDZ3Q1D"
      },
      "source": [
        "1) Bir listeyi düzleştiren (flatten) fonksiyon yazın. Elemanları birden çok katmanlı listtlerden ([[3],2] gibi) oluşabileceği gibi, non-scalar verilerden de oluşabilir. \n",
        "\n",
        "Örnek olarak:\n",
        "\n",
        "input: [[1, 'a', ['cat'], 2], [[[3]], 'dog'], 4, 5]\n",
        "\n",
        "output: [1, 'a', 'cat', 2, 3, 'dog', 4, 5]"
      ]
    },
    {
      "cell_type": "code",
      "metadata": {
        "id": "2TrSgNwU16Ze"
      },
      "source": [
        "flatten_list = []\n",
        "def make_flatten(given_list):\n",
        "  \"\"\"makes a given list flatten\"\"\"\n",
        "  for element in given_list:\n",
        "    if type(element) is list:     \n",
        "      make_flatten(element)\n",
        "    else:\n",
        "      flatten_list.append(element)\n",
        "  return flatten_list"
      ],
      "execution_count": 1,
      "outputs": []
    },
    {
      "cell_type": "code",
      "metadata": {
        "colab": {
          "base_uri": "https://localhost:8080/"
        },
        "id": "VqFQhoqd2KsH",
        "outputId": "5866814a-99d8-490d-806d-1f274b12a64b"
      },
      "source": [
        "l1 = [[1,'a',['cat'],2],[[[3]],'dog'],4,5]\n",
        "l1"
      ],
      "execution_count": 2,
      "outputs": [
        {
          "output_type": "execute_result",
          "data": {
            "text/plain": [
              "[[1, 'a', ['cat'], 2], [[[3]], 'dog'], 4, 5]"
            ]
          },
          "metadata": {
            "tags": []
          },
          "execution_count": 2
        }
      ]
    },
    {
      "cell_type": "code",
      "metadata": {
        "colab": {
          "base_uri": "https://localhost:8080/"
        },
        "id": "KtAXpvok5JNN",
        "outputId": "e06b1561-fb12-46ca-a5c7-729f959d93e1"
      },
      "source": [
        "make_flatten(l1)"
      ],
      "execution_count": 3,
      "outputs": [
        {
          "output_type": "execute_result",
          "data": {
            "text/plain": [
              "[1, 'a', 'cat', 2, 3, 'dog', 4, 5]"
            ]
          },
          "metadata": {
            "tags": []
          },
          "execution_count": 3
        }
      ]
    },
    {
      "cell_type": "markdown",
      "metadata": {
        "id": "G7sFY1l018iH"
      },
      "source": [
        "2) Verilen listenin içindeki elemanları tersine döndüren bir fonksiyon yazın. Eğer listenin içindeki elemanlar da liste içeriyorsa onların elemanlarını da tersine döndürün. \n",
        "\n",
        "Örnek olarak:\n",
        "\n",
        "input: [ [1, 2], [3, 4], [5, 6, 7] ]\n",
        "\n",
        "output: [ [ [7, 6, 5], [4, 3], [2, 1] ]"
      ]
    },
    {
      "cell_type": "code",
      "metadata": {
        "id": "hMP4MfXO8KGB"
      },
      "source": [
        "def return_inverse(given_list):\n",
        "  \"returns elements of given list to inverse\"\n",
        "  inverse_list=[]\n",
        "  for el in given_list[::-1]:\n",
        "    if type(el) is list:\n",
        "      inverse_list.append(el[::-1])\n",
        "    else:\n",
        "      inverse_list.append(el)\n",
        "  return inverse_list"
      ],
      "execution_count": 4,
      "outputs": []
    },
    {
      "cell_type": "code",
      "metadata": {
        "id": "K4aWbinmBFWX"
      },
      "source": [
        "#one line version\n",
        "def return_inverse2(given_list):\n",
        "  return [el[::-1] if type(el) is list else el for el in given_list[::-1]]"
      ],
      "execution_count": 5,
      "outputs": []
    },
    {
      "cell_type": "code",
      "metadata": {
        "colab": {
          "base_uri": "https://localhost:8080/"
        },
        "id": "xbJ6EjoY71P7",
        "outputId": "cc446001-2fc9-4920-8ba4-e7f57ceb3395"
      },
      "source": [
        "l2 = [[1,2], [3, 4], [5, 6, 7]]\n",
        "l2"
      ],
      "execution_count": 6,
      "outputs": [
        {
          "output_type": "execute_result",
          "data": {
            "text/plain": [
              "[[1, 2], [3, 4], [5, 6, 7]]"
            ]
          },
          "metadata": {
            "tags": []
          },
          "execution_count": 6
        }
      ]
    },
    {
      "cell_type": "code",
      "metadata": {
        "colab": {
          "base_uri": "https://localhost:8080/"
        },
        "id": "iGSeTSOd__kd",
        "outputId": "d0d0587c-1578-471d-a8da-e1ba1efa454c"
      },
      "source": [
        "return_inverse(l2)"
      ],
      "execution_count": 7,
      "outputs": [
        {
          "output_type": "execute_result",
          "data": {
            "text/plain": [
              "[[7, 6, 5], [4, 3], [2, 1]]"
            ]
          },
          "metadata": {
            "tags": []
          },
          "execution_count": 7
        }
      ]
    },
    {
      "cell_type": "code",
      "metadata": {
        "colab": {
          "base_uri": "https://localhost:8080/"
        },
        "id": "-gdmxQQBEpb3",
        "outputId": "6a3e32ea-115e-43f3-c524-9b6a5f0532bd"
      },
      "source": [
        "l3 = [2, [3, 4], [5, 6, 7]]\n",
        "l3"
      ],
      "execution_count": 8,
      "outputs": [
        {
          "output_type": "execute_result",
          "data": {
            "text/plain": [
              "[2, [3, 4], [5, 6, 7]]"
            ]
          },
          "metadata": {
            "tags": []
          },
          "execution_count": 8
        }
      ]
    },
    {
      "cell_type": "code",
      "metadata": {
        "colab": {
          "base_uri": "https://localhost:8080/"
        },
        "id": "GSJ79qRzEsmy",
        "outputId": "10bf7f35-96d4-49d2-e249-67aaebaa4951"
      },
      "source": [
        "return_inverse(l3)"
      ],
      "execution_count": 9,
      "outputs": [
        {
          "output_type": "execute_result",
          "data": {
            "text/plain": [
              "[[7, 6, 5], [4, 3], 2]"
            ]
          },
          "metadata": {
            "tags": []
          },
          "execution_count": 9
        }
      ]
    }
  ]
}